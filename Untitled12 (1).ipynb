{
  "nbformat": 4,
  "nbformat_minor": 0,
  "metadata": {
    "colab": {
      "name": "Untitled12.ipynb",
      "provenance": [],
      "collapsed_sections": []
    },
    "kernelspec": {
      "name": "python3",
      "display_name": "Python 3"
    }
  },
  "cells": [
    {
      "cell_type": "code",
      "metadata": {
        "id": "FTAAkO77rbu3",
        "colab_type": "code",
        "colab": {}
      },
      "source": [
        "# Problem 5_12 196-197page"
      ],
      "execution_count": 0,
      "outputs": []
    },
    {
      "cell_type": "code",
      "metadata": {
        "id": "DD_ySCSYhmCy",
        "colab_type": "code",
        "colab": {}
      },
      "source": [
        "from sympy import Derivative\n",
        "from numpy import sqrt, sin, cos, arange, zeros, pi"
      ],
      "execution_count": 0,
      "outputs": []
    },
    {
      "cell_type": "code",
      "metadata": {
        "id": "1JDN2t5WjbmQ",
        "colab_type": "code",
        "colab": {}
      },
      "source": [
        "DELTA_THETA = 5\n",
        "thetas = arange(0,180+DELTA_THETA,DELTA_THETA).astype(float)\n",
        "thetas *= (pi/180)"
      ],
      "execution_count": 0,
      "outputs": []
    },
    {
      "cell_type": "code",
      "metadata": {
        "id": "gTGKwAK_j8nP",
        "colab_type": "code",
        "colab": {}
      },
      "source": [
        "R = 90"
      ],
      "execution_count": 0,
      "outputs": []
    },
    {
      "cell_type": "code",
      "metadata": {
        "id": "ldknViRKiOFV",
        "colab_type": "code",
        "colab": {}
      },
      "source": [
        "x1 = R*(cos(thetas)+sqrt(2.5**2-sin(thetas)**2))"
      ],
      "execution_count": 0,
      "outputs": []
    },
    {
      "cell_type": "code",
      "metadata": {
        "id": "saEwRLisj6zL",
        "colab_type": "code",
        "colab": {}
      },
      "source": [
        "x2 = R*(-sin(thetas)-(sin(thetas)*cos(thetas))/sqrt(2.5**2-sin(thetas)**2))"
      ],
      "execution_count": 0,
      "outputs": []
    },
    {
      "cell_type": "code",
      "metadata": {
        "id": "CDq78MHbkuW9",
        "colab_type": "code",
        "colab": {}
      },
      "source": [
        "x3 = R*(-cos(thetas)-(sin(thetas)*cos(thetas))**2*(2.5**2-sin(thetas)**2)**(-3/2)-(cos(thetas)**2)/sqrt(2.5**2-sin(thetas)**2)+(sin(thetas)**2)/sqrt(2.5**2-sin(thetas)**2))"
      ],
      "execution_count": 0,
      "outputs": []
    },
    {
      "cell_type": "code",
      "metadata": {
        "id": "Oe4-UVULl-7l",
        "colab_type": "code",
        "outputId": "c8aff474-99f6-4566-a437-cb952e74240b",
        "colab": {
          "base_uri": "https://localhost:8080/",
          "height": 158
        }
      },
      "source": [
        "print(x3)"
      ],
      "execution_count": 8,
      "outputs": [
        {
          "output_type": "stream",
          "text": [
            "[-126.         -125.17566667 -122.7132084  -118.64453686 -113.02376979\n",
            " -105.92854291  -97.46165773  -87.7528399   -76.96027441  -65.27146224\n",
            "  -52.90282836  -40.09743952  -27.12021265  -14.25016344   -1.76959751\n",
            "   10.04932429   20.95958511   30.75423119   39.27922024   46.44226489\n",
            "   52.21625709   56.63675241   59.79402829   61.82112368   62.87978735\n",
            "   63.14631902   62.79894139   62.00775837   60.92772535   59.69452807\n",
            "   58.42291495   57.20685876   56.12090195   55.22211187   54.55218714\n",
            "   54.13937899   54.        ]\n"
          ],
          "name": "stdout"
        }
      ]
    },
    {
      "cell_type": "markdown",
      "metadata": {
        "id": "ByUrjLbHrjgn",
        "colab_type": "text"
      },
      "source": [
        "우선 직접 식을 미분하여 37개의 결과값을 도출 하였지만 문제에서는 이 답을 원한 것이 아니다. 본인도 마찬가지로 문제에서 원하는 답을 점검하기 위해 계산한 것이다."
      ]
    },
    {
      "cell_type": "code",
      "metadata": {
        "id": "SY7Q0MsqmjbY",
        "colab_type": "code",
        "colab": {}
      },
      "source": [
        "def x_approximate(x,delta_theta):\n",
        "  n = len(x)\n",
        "  x_dd = zeros(n)\n",
        "\n",
        "  for a in [0]:\n",
        "    x_dd[a]=(2*x[a]-5*x[a+1]+4*x[a+2]-x[a+3])/delta_theta**2\n",
        "  for a in range(1,n-1):\n",
        "    x_dd[a]=(x[a-1]-2*x[a]+x[a+1])/delta_theta**2\n",
        "  for a in [n-1]:\n",
        "    x_dd[a]=(-x[a-3]+4*x[a-2]-5*x[a-1]+2*x[a])/delta_theta**2\n",
        "\n",
        "  return x_dd"
      ],
      "execution_count": 0,
      "outputs": []
    },
    {
      "cell_type": "code",
      "metadata": {
        "id": "j0u2YEpxokKk",
        "colab_type": "code",
        "outputId": "32332cb9-ea1e-44cc-a74d-68364d715072",
        "colab": {
          "base_uri": "https://localhost:8080/",
          "height": 158
        }
      },
      "source": [
        "print(x_approximate(x1,DELTA_THETA*(pi/180)))"
      ],
      "execution_count": 42,
      "outputs": [
        {
          "output_type": "stream",
          "text": [
            "[-127.49886998 -125.0390675  -122.57926502 -118.51509775 -112.90079335\n",
            " -105.81412576  -97.35804442  -87.66240481  -76.8854657   -65.21469813\n",
            "  -52.86633952  -40.08305933  -27.12912902  -14.2826618    -1.8248393\n",
            "    9.97343454   20.86639466   30.64816628   39.16545016   46.32624656\n",
            "   52.10323557   56.53130487   59.69972693   61.74036124   62.81376971\n",
            "   63.09519533   62.76202224   61.9837691    60.91504984   59.69141392\n",
            "   58.42762596   57.21777325   56.13656311   55.2412398    54.57366298\n",
            "   54.16221019   53.75075741]\n"
          ],
          "name": "stdout"
        }
      ]
    },
    {
      "cell_type": "markdown",
      "metadata": {
        "id": "QC79rD-Sr2x5",
        "colab_type": "text"
      },
      "source": [
        "Numerical Differentiation 을 이용해서 37개의 결과값을 새로 도출하였으며 x3 의 값들과 매우 유사함을 알 수 있다."
      ]
    },
    {
      "cell_type": "markdown",
      "metadata": {
        "id": "T5gduTfm-v7h",
        "colab_type": "text"
      },
      "source": [
        "\n",
        "\n",
        "---\n",
        "\n",
        "\n",
        "\n",
        "---\n",
        "\n"
      ]
    },
    {
      "cell_type": "code",
      "metadata": {
        "id": "PP0RNmPnsG2K",
        "colab_type": "code",
        "colab": {}
      },
      "source": [
        "# Problem 5_13 page197"
      ],
      "execution_count": 0,
      "outputs": []
    },
    {
      "cell_type": "code",
      "metadata": {
        "id": "eN1ZIkqusbCI",
        "colab_type": "code",
        "colab": {}
      },
      "source": [
        "from numpy import sqrt, zeros, pi, array, tan"
      ],
      "execution_count": 0,
      "outputs": []
    },
    {
      "cell_type": "code",
      "metadata": {
        "id": "8CyolqiixOcS",
        "colab_type": "code",
        "colab": {}
      },
      "source": [
        "time = array([9,10,11])\n",
        "alpha = array([54.80,54.06,53.34])\n",
        "beta = array([65.59,64.59,63.62])"
      ],
      "execution_count": 0,
      "outputs": []
    },
    {
      "cell_type": "code",
      "metadata": {
        "id": "Esa9GRb7xgpB",
        "colab_type": "code",
        "colab": {}
      },
      "source": [
        "alpha *= (pi/180)\n",
        "beta *= (pi/180)"
      ],
      "execution_count": 0,
      "outputs": []
    },
    {
      "cell_type": "code",
      "metadata": {
        "id": "N2mczHYK6kG6",
        "colab_type": "code",
        "colab": {}
      },
      "source": [
        "a = 500"
      ],
      "execution_count": 0,
      "outputs": []
    },
    {
      "cell_type": "code",
      "metadata": {
        "id": "ssSvq4Ob6dUZ",
        "colab_type": "code",
        "colab": {}
      },
      "source": [
        "x_com = a*tan(beta)/(tan(beta)-tan(alpha))\n",
        "y_com = a*tan(beta)*tan(alpha)/(tan(beta)-tan(alpha))"
      ],
      "execution_count": 0,
      "outputs": []
    },
    {
      "cell_type": "code",
      "metadata": {
        "id": "1z8MmTje65Jh",
        "colab_type": "code",
        "outputId": "b37f8fac-e145-45ba-d2b4-c8ed8adb0d11",
        "colab": {
          "base_uri": "https://localhost:8080/",
          "height": 34
        }
      },
      "source": [
        "print(x_com,y_com)"
      ],
      "execution_count": 17,
      "outputs": [
        {
          "output_type": "stream",
          "text": [
            "[1401.91839832 1450.49700629 1498.64035029] [1987.34601606 2000.84071299 2013.51241079]\n"
          ],
          "name": "stdout"
        }
      ]
    },
    {
      "cell_type": "markdown",
      "metadata": {
        "id": "1O6oE1IvGe5I",
        "colab_type": "text"
      },
      "source": [
        "t가 9,10,11 일 때, 각각 x,y의 값을 계산한 결과이다."
      ]
    },
    {
      "cell_type": "code",
      "metadata": {
        "id": "WmtOGdRPxpod",
        "colab_type": "code",
        "colab": {}
      },
      "source": [
        "delta_t = 1"
      ],
      "execution_count": 0,
      "outputs": []
    },
    {
      "cell_type": "code",
      "metadata": {
        "id": "JmE8m9iqx_mp",
        "colab_type": "code",
        "colab": {}
      },
      "source": [
        "def fd_approx(x,delta_t):\n",
        "  n = len(x)\n",
        "  x_d = zeros(n)\n",
        "  for a in [0]:\n",
        "    x_d[a] = (-3*x[a]+4*x[a+1]-x[a+2])/(2*delta_t)\n",
        "  for a in range(1,n-1):\n",
        "    x_d[a] = (-x[a-1]+x[a+1])/(2*delta_t)\n",
        "  for a in [n-1]:\n",
        "    x_d[a] = (x[a-2]-4*x[a-1]+3*x[a])/(2*delta_t)\n",
        "\n",
        "  return x_d"
      ],
      "execution_count": 0,
      "outputs": []
    },
    {
      "cell_type": "code",
      "metadata": {
        "id": "v6Z07EZKy6SX",
        "colab_type": "code",
        "colab": {}
      },
      "source": [
        "xc_d = fd_approx(x_com,delta_t)\n",
        "yc_d = fd_approx(y_com,delta_t)"
      ],
      "execution_count": 0,
      "outputs": []
    },
    {
      "cell_type": "code",
      "metadata": {
        "id": "HRMsBtpw0ZBI",
        "colab_type": "code",
        "outputId": "05c89453-b9f7-4002-82b4-4a0379b36356",
        "colab": {
          "base_uri": "https://localhost:8080/",
          "height": 34
        }
      },
      "source": [
        "xc_d"
      ],
      "execution_count": 21,
      "outputs": [
        {
          "output_type": "execute_result",
          "data": {
            "text/plain": [
              "array([48.79623996, 48.36097599, 47.92571201])"
            ]
          },
          "metadata": {
            "tags": []
          },
          "execution_count": 21
        }
      ]
    },
    {
      "cell_type": "code",
      "metadata": {
        "id": "R8tZgfFC1yI_",
        "colab_type": "code",
        "outputId": "90f95274-bdb0-4be7-eb28-59e98311fece",
        "colab": {
          "base_uri": "https://localhost:8080/",
          "height": 34
        }
      },
      "source": [
        "yc_d"
      ],
      "execution_count": 22,
      "outputs": [
        {
          "output_type": "execute_result",
          "data": {
            "text/plain": [
              "array([13.9061965 , 13.08319737, 12.26019824])"
            ]
          },
          "metadata": {
            "tags": []
          },
          "execution_count": 22
        }
      ]
    },
    {
      "cell_type": "code",
      "metadata": {
        "id": "9NHDyAPo85nm",
        "colab_type": "code",
        "colab": {}
      },
      "source": [
        "from numpy import arctan"
      ],
      "execution_count": 0,
      "outputs": []
    },
    {
      "cell_type": "code",
      "metadata": {
        "id": "KOZkqC389BvP",
        "colab_type": "code",
        "outputId": "c24cdd8b-7222-4d11-88d5-7844863e39df",
        "colab": {
          "base_uri": "https://localhost:8080/",
          "height": 34
        }
      },
      "source": [
        "arctan(yc_d[1]/xc_d[1])*(180/pi)"
      ],
      "execution_count": 24,
      "outputs": [
        {
          "output_type": "execute_result",
          "data": {
            "text/plain": [
              "15.13798797936388"
            ]
          },
          "metadata": {
            "tags": []
          },
          "execution_count": 24
        }
      ]
    },
    {
      "cell_type": "code",
      "metadata": {
        "id": "f_ve-43H9vc4",
        "colab_type": "code",
        "outputId": "b9f66c23-b20a-410e-82d3-6c1e796d4ca8",
        "colab": {
          "base_uri": "https://localhost:8080/",
          "height": 34
        }
      },
      "source": [
        "sqrt(yc_d[1]**2+xc_d[1]**2)"
      ],
      "execution_count": 25,
      "outputs": [
        {
          "output_type": "execute_result",
          "data": {
            "text/plain": [
              "50.09944162965303"
            ]
          },
          "metadata": {
            "tags": []
          },
          "execution_count": 25
        }
      ]
    },
    {
      "cell_type": "markdown",
      "metadata": {
        "id": "L1YjWyaY-DIw",
        "colab_type": "text"
      },
      "source": [
        "t가 9,10,11 일 때 1차미분값을 구하였고\n",
        "이를 바탕으로 비행기의 속도와 각도를 계산하였다.\n",
        "\n",
        "각도는 15.13798797936388°,\n",
        "\n",
        "속도는 50.09944162965303m/s 가 나왔다."
      ]
    },
    {
      "cell_type": "markdown",
      "metadata": {
        "id": "5tscV_D0-ywm",
        "colab_type": "text"
      },
      "source": [
        "\n",
        "\n",
        "---\n",
        "---\n",
        "\n"
      ]
    },
    {
      "cell_type": "code",
      "metadata": {
        "id": "o7jwBBQ2-zSk",
        "colab_type": "code",
        "colab": {}
      },
      "source": [
        "# Problem 5_15 197page"
      ],
      "execution_count": 0,
      "outputs": []
    },
    {
      "cell_type": "code",
      "metadata": {
        "id": "C1CJOmim_Lem",
        "colab_type": "code",
        "colab": {}
      },
      "source": [
        "from numpy import zeros, array, arange"
      ],
      "execution_count": 0,
      "outputs": []
    },
    {
      "cell_type": "code",
      "metadata": {
        "id": "c4M3No0aBgIR",
        "colab_type": "code",
        "colab": {}
      },
      "source": [
        "d_ep=0.05\n",
        "strain = array(arange(0,0.50+d_ep,d_ep))\n",
        "stress = array([0,0.252,0.531,0.840,1.184,1.558,1.975,2.444,2.943,3.500,4.115])"
      ],
      "execution_count": 0,
      "outputs": []
    },
    {
      "cell_type": "code",
      "metadata": {
        "id": "bPp4ab-MCn0l",
        "colab_type": "code",
        "colab": {}
      },
      "source": [
        "def fstress_approx(x,d_ep):\n",
        "  n = len(x)\n",
        "  x_d = zeros(n)\n",
        "  for a in [0]:\n",
        "    x_d[a] = (-3*x[a]+4*x[a+1]-x[a+2])/(2*d_ep)\n",
        "  for a in range(1,n-1):\n",
        "    x_d[a] = (-x[a-1]+x[a+1])/(2*d_ep)\n",
        "  for a in [n-1]:\n",
        "    x_d[a] = (x[a-2]-4*x[a-1]+3*x[a])/(2*d_ep)\n",
        "\n",
        "  return x_d"
      ],
      "execution_count": 0,
      "outputs": []
    },
    {
      "cell_type": "code",
      "metadata": {
        "id": "ZX9FF4TYC5zw",
        "colab_type": "code",
        "colab": {}
      },
      "source": [
        "stress_d = fstress_approx(stress,d_ep)"
      ],
      "execution_count": 0,
      "outputs": []
    },
    {
      "cell_type": "code",
      "metadata": {
        "id": "_TFLIDMQDMBx",
        "colab_type": "code",
        "outputId": "6c333cdf-7573-4536-8a7e-7ae5de1750d4",
        "colab": {
          "base_uri": "https://localhost:8080/",
          "height": 52
        }
      },
      "source": [
        "stress_d"
      ],
      "execution_count": 47,
      "outputs": [
        {
          "output_type": "execute_result",
          "data": {
            "text/plain": [
              "array([ 4.77,  5.31,  5.88,  6.53,  7.18,  7.91,  8.86,  9.68, 10.56,\n",
              "       11.72, 12.88])"
            ]
          },
          "metadata": {
            "tags": []
          },
          "execution_count": 47
        }
      ]
    },
    {
      "cell_type": "code",
      "metadata": {
        "id": "SKOtptcwD8C4",
        "colab_type": "code",
        "colab": {}
      },
      "source": [
        "import matplotlib.pyplot as plt"
      ],
      "execution_count": 0,
      "outputs": []
    },
    {
      "cell_type": "code",
      "metadata": {
        "id": "2Hw6K-RWEAos",
        "colab_type": "code",
        "outputId": "c6773314-6384-42de-b6f9-4975cbd7543b",
        "colab": {
          "base_uri": "https://localhost:8080/",
          "height": 282
        }
      },
      "source": [
        "plt.plot(stress,stress_d,'^-')"
      ],
      "execution_count": 33,
      "outputs": [
        {
          "output_type": "execute_result",
          "data": {
            "text/plain": [
              "[<matplotlib.lines.Line2D at 0x7f1931a12828>]"
            ]
          },
          "metadata": {
            "tags": []
          },
          "execution_count": 33
        },
        {
          "output_type": "display_data",
          "data": {
            "image/png": "[encoded data removed]",
            "text/plain": [
              "<Figure size 432x288 with 1 Axes>"
            ]
          },
          "metadata": {
            "tags": [],
            "needs_background": "light"
          }
        }
      ]
    },
    {
      "cell_type": "markdown",
      "metadata": {
        "id": "ekRbPvieGW4T",
        "colab_type": "text"
      },
      "source": [
        "그래프를 완성시켰다."
      ]
    },
    {
      "cell_type": "code",
      "metadata": {
        "id": "_-eH8v_xFkG6",
        "colab_type": "code",
        "colab": {}
      },
      "source": [
        "from numpy import zeros,argmax,dot"
      ],
      "execution_count": 0,
      "outputs": []
    },
    {
      "cell_type": "code",
      "metadata": {
        "id": "i3wPG6m2Fmys",
        "colab_type": "code",
        "colab": {}
      },
      "source": [
        "def gaussPivot(a,b,tol=1.0e-12):\n",
        "    n = len(b)\n",
        "    s = zeros(n)\n",
        "    for i in range(n):\n",
        "        s[i] = max(abs(a[i,:]))\n",
        "    for k in range(0,n-1):\n",
        "        for i in range(k+1,n):\n",
        "            if a[i,k] != 0.0:\n",
        "                lam = a[i,k]/a[k,k]\n",
        "                a[i,k+1:n] = a [i,k+1:n] - lam*a[k,k+1:n]\n",
        "                b[i] = b[i] - lam*b[k]\n",
        "    b[n-1] = b[n-1]/a[n-1,n-1]\n",
        "    for k in range(n-2,-1,-1):\n",
        "        b[k] = (b[k] - dot(a[k,k+1:n],b[k+1:n]))/a[k,k]\n",
        "    return b"
      ],
      "execution_count": 0,
      "outputs": []
    },
    {
      "cell_type": "code",
      "metadata": {
        "id": "kMi4xvrhFpkQ",
        "colab_type": "code",
        "colab": {}
      },
      "source": [
        "def polyFit(xData,yData,m):\n",
        "    a = zeros((m+1,m+1))\n",
        "    b = zeros(m+1)\n",
        "    s = zeros(2*m+1)\n",
        "    for i in range(len(xData)):\n",
        "        temp = yData[i]\n",
        "        for j in range(m+1):\n",
        "            b[j] = b[j] + temp\n",
        "            temp = temp*xData[i]\n",
        "        temp = 1.0\n",
        "        for j in range(2*m+1):\n",
        "            s[j] = s[j] + temp\n",
        "            temp = temp*xData[i]\n",
        "    for i in range(m+1):\n",
        "        for j in range(m+1):\n",
        "            a[i,j] = s[i+j]\n",
        "    return gaussPivot(a,b)"
      ],
      "execution_count": 0,
      "outputs": []
    },
    {
      "cell_type": "code",
      "metadata": {
        "id": "yz4HtR7ZFq-J",
        "colab_type": "code",
        "colab": {
          "base_uri": "https://localhost:8080/",
          "height": 34
        },
        "outputId": "b8f7bed0-1c3e-45e2-d1e3-431f5d287603"
      },
      "source": [
        "polyFit(stress,stress_d,1)"
      ],
      "execution_count": 39,
      "outputs": [
        {
          "output_type": "execute_result",
          "data": {
            "text/plain": [
              "array([4.84329478, 1.9648308 ])"
            ]
          },
          "metadata": {
            "tags": []
          },
          "execution_count": 39
        }
      ]
    },
    {
      "cell_type": "markdown",
      "metadata": {
        "id": "pZ5UewzJG75x",
        "colab_type": "text"
      },
      "source": [
        "a 값은 4.84329478, b 값은 1.9648308 을 만족시킨다."
      ]
    },
    {
      "cell_type": "markdown",
      "metadata": {
        "id": "Bn5GUbnKHMEN",
        "colab_type": "text"
      },
      "source": [
        "\n",
        "\n",
        "---\n",
        "---\n",
        "\n"
      ]
    },
    {
      "cell_type": "code",
      "metadata": {
        "id": "xs0AJEbdHJKP",
        "colab_type": "code",
        "colab": {}
      },
      "source": [
        "# Problem 6_2 page212"
      ],
      "execution_count": 0,
      "outputs": []
    },
    {
      "cell_type": "code",
      "metadata": {
        "id": "v_PBkbvqJI8c",
        "colab_type": "code",
        "colab": {}
      },
      "source": [
        ""
      ],
      "execution_count": 0,
      "outputs": []
    }
  ]
}